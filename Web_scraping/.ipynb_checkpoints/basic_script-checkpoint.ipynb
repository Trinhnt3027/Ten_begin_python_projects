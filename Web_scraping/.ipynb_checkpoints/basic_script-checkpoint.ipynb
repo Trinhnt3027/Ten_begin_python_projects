{
 "cells": [
  {
   "cell_type": "code",
   "execution_count": 9,
   "id": "21fbc2c2",
   "metadata": {},
   "outputs": [],
   "source": [
    "#import package\n",
    "\n",
    "import requests\n",
    "from bs4 import BeautifulSoup"
   ]
  },
  {
   "cell_type": "code",
   "execution_count": 10,
   "id": "9146b666",
   "metadata": {},
   "outputs": [],
   "source": [
    "#create request\n",
    "\n",
    "r = requests.get(\"https://pythonizing.github.io/data/example.html\")\n",
    "content = r.content"
   ]
  },
  {
   "cell_type": "code",
   "execution_count": 13,
   "id": "e1aff1cf",
   "metadata": {},
   "outputs": [],
   "source": [
    "#make beautiful soup\n",
    "\n",
    "soup = BeautifulSoup(content)"
   ]
  },
  {
   "cell_type": "code",
   "execution_count": 20,
   "id": "95ae8750",
   "metadata": {},
   "outputs": [
    {
     "name": "stdout",
     "output_type": "stream",
     "text": [
      "London\n",
      "Paris\n",
      "Tokyo\n"
     ]
    }
   ],
   "source": [
    "# get element\n",
    "\n",
    "items = soup.find_all(\"div\", {\"class\":\"cities\"})\n",
    "\n",
    "for item in items:\n",
    "    print(item.find_all(\"h2\")[0].text)"
   ]
  }
 ],
 "metadata": {
  "kernelspec": {
   "display_name": "Python 3 (ipykernel)",
   "language": "python",
   "name": "python3"
  },
  "language_info": {
   "codemirror_mode": {
    "name": "ipython",
    "version": 3
   },
   "file_extension": ".py",
   "mimetype": "text/x-python",
   "name": "python",
   "nbconvert_exporter": "python",
   "pygments_lexer": "ipython3",
   "version": "3.9.4"
  }
 },
 "nbformat": 4,
 "nbformat_minor": 5
}
